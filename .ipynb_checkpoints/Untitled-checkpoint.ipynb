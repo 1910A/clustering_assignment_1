{
 "cells": [
  {
   "cell_type": "markdown",
   "id": "ef584928-57b9-4394-84df-86267d517192",
   "metadata": {},
   "source": [
    "# Setup"
   ]
  },
  {
   "cell_type": "code",
   "execution_count": null,
   "id": "6e8d93e4-ed0a-4b4f-a6d1-1a735010836a",
   "metadata": {},
   "outputs": [],
   "source": [
    "# Required Libraries\n",
    "import pandas as pd\n",
    "from lifelines import CoxPHFitter\n",
    "from dowhy import CausalModel\n",
    "\n",
    "# Load the Data\n",
    "data_censored = pd.read_csv('data_censored.csv')\n",
    "\n",
    "# Preview the Data\n",
    "print(data_censored.head())\n",
    "\n",
    "# Split Data into Per-Protocol (PP) and Intention-to-Treat (ITT) Trials\n",
    "# Assuming 'eligible' indicates eligibility status and 'treatment' for treatment assignment\n",
    "trial_pp = data_censored[data_censored['eligible'] == 1].copy()\n",
    "trial_itt = data_censored.copy()  # ITT includes all participants\n",
    "\n",
    "# Define Required Columns\n",
    "columns = ['id', 'period', 'treatment', 'outcome', 'eligible']\n",
    "\n",
    "# Display Data for Verification\n",
    "print(\"Per-Protocol (PP) Trial Data:\\n\", trial_pp[columns].head())\n",
    "print(\"Intention-to-Treat (ITT) Trial Data:\\n\", trial_itt[columns].head())\n",
    "\n",
    "# --- Survival Analysis with Lifelines ---\n",
    "# Per-Protocol Analysis\n",
    "cph_pp = CoxPHFitter()\n",
    "cph_pp.fit(trial_pp, duration_col='period', event_col='outcome')\n",
    "print(\"Per-Protocol Survival Analysis Summary:\")\n",
    "cph_pp.print_summary()\n",
    "\n",
    "# ITT Analysis\n",
    "cph_itt = CoxPHFitter()\n",
    "cph_itt.fit(trial_itt, duration_col='period', event_col='outcome')\n",
    "print(\"Intention-to-Treat Survival Analysis Summary:\")\n",
    "cph_itt.print_summary()\n",
    "\n",
    "# --- Causal Inference with DoWhy ---\n",
    "# Setup Causal Model for Per-Protocol Analysis\n",
    "causal_model_pp = CausalModel(\n",
    "    data=trial_pp,\n",
    "    treatment='treatment',\n",
    "    outcome='outcome',\n",
    "    common_causes=['x1', 'x2', 'x3', 'x4', 'age', 'age_s']  # Assuming these are covariates\n",
    ")\n",
    "\n",
    "# Identify and Estimate the Causal Effect\n",
    "identified_estimand_pp = causal_model_pp.identify_effect()\n",
    "estimate_pp = causal_model_pp.estimate_effect(identified_estimand_pp, method_name=\"backdoor.propensity_score_matching\")\n",
    "print(\"Per-Protocol Causal Effect Estimate:\\n\", estimate_pp)\n",
    "\n",
    "# Setup Causal Model for ITT Analysis\n",
    "causal_model_itt = CausalModel(\n",
    "    data=trial_itt,\n",
    "    treatment='treatment',\n",
    "    outcome='outcome',\n",
    "    common_causes=['x1', 'x2', 'x3', 'x4', 'age', 'age_s']\n",
    ")\n",
    "\n",
    "# Identify and Estimate the Causal Effect\n",
    "identified_estimand_itt = causal_model_itt.identify_effect()\n",
    "estimate_itt = causal_model_itt.estimate_effect(identified_estimand_itt, method_name=\"backdoor.propensity_score_matching\")\n",
    "print(\"Intention-to-Treat Causal Effect Estimate:\\n\", estimate_itt)\n"
   ]
  },
  {
   "cell_type": "code",
   "execution_count": null,
   "id": "86e92564-2b56-4fee-97d3-3bdffa35414d",
   "metadata": {},
   "outputs": [],
   "source": [
    "pip install pandas lifelines dowhy\n"
   ]
  },
  {
   "cell_type": "code",
   "execution_count": null,
   "id": "f40fd6e9-cff0-49e9-bcca-36f8f0daf4e1",
   "metadata": {},
   "outputs": [],
   "source": []
  },
  {
   "cell_type": "code",
   "execution_count": null,
   "id": "01db2e83-de41-467e-9402-565420039805",
   "metadata": {},
   "outputs": [],
   "source": []
  }
 ],
 "metadata": {
  "kernelspec": {
   "display_name": "Python 3 (ipykernel)",
   "language": "python",
   "name": "python3"
  },
  "language_info": {
   "codemirror_mode": {
    "name": "ipython",
    "version": 3
   },
   "file_extension": ".py",
   "mimetype": "text/x-python",
   "name": "python",
   "nbconvert_exporter": "python",
   "pygments_lexer": "ipython3",
   "version": "3.12.0"
  }
 },
 "nbformat": 4,
 "nbformat_minor": 5
}
