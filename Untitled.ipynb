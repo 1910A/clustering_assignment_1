{
 "cells": [
  {
   "cell_type": "markdown",
   "id": "ef584928-57b9-4394-84df-86267d517192",
   "metadata": {},
   "source": [
    "# Setup"
   ]
  },
  {
   "cell_type": "code",
   "execution_count": null,
   "id": "6e8d93e4-ed0a-4b4f-a6d1-1a735010836a",
   "metadata": {},
   "outputs": [
    {
     "name": "stdout",
     "output_type": "stream",
     "text": [
      "trial_pp head:\n",
      "   id  period  treatment  outcome  eligible  age  x1        x2  x3  censored\n",
      "0   1       0          1        0         1   36   1  1.146148   0         0\n",
      "1   1       1          1        0         0   37   1  0.002200   0         0\n",
      "2   1       2          1        0         0   38   0 -0.481762   0         0\n",
      "3   1       3          1        0         0   39   0  0.007872   0         0\n",
      "4   1       4          1        0         0   40   1  0.216054   0         0\n",
      "\n",
      "trial_itt head:\n",
      "   id  period  treatment  outcome  eligible  age  x1        x2  x3  censored\n",
      "0   1       0          1        0         1   36   1  1.146148   0         0\n",
      "1   1       1          1        0         0   37   1  0.002200   0         0\n",
      "2   1       2          1        0         0   38   0 -0.481762   0         0\n",
      "3   1       3          1        0         0   39   0  0.007872   0         0\n",
      "4   1       4          1        0         0   40   1  0.216054   0         0\n"
     ]
    }
   ],
   "source": [
    "import pandas as pd\n",
    "\n",
    "# Load the Data\n",
    "data_censored = pd.read_csv('data_censored.csv')\n",
    "\n",
    "# Define columns for trial data setup\n",
    "columns_to_select = [\n",
    "    'id', 'period', 'treatment', 'x1', 'x2', 'x3', 'x4', \n",
    "    'age', 'age_s', 'outcome', 'censored', 'eligible'\n",
    "]\n",
    "\n",
    "# Set up data for both ITT and PP analyses\n",
    "trial_pp = data_censored[columns_to_select].copy()\n",
    "trial_itt = data_censored[columns_to_select].copy()\n",
    "\n",
    "# Displaying the \"Trial Sequence Object\" equivalent output\n",
    "print(\"## Trial Sequence Object\")\n",
    "print(\"## Estimand: Intention-to-treat\\n\")\n",
    "\n",
    "print(\"## Data:\")\n",
    "print(f\" - N: {len(data_censored)} observations from {data_censored['id'].nunique()} patients\\n\")\n",
    "\n",
    "# Display a sample of the data\n",
    "print(data_censored.head(5).to_string(index=False))\n",
    "\n",
    "print(\"\\n## IPW for informative censoring:\")\n",
    "print(\" - No weight model specified\\n\")\n",
    "\n",
    "print(\"## Sequence of Trials Data:\")\n",
    "print(\" - Use set_expansion_options() and expand_trials() to construct the sequence of trials dataset.\\n\")\n",
    "\n",
    "print(\"## Outcome model:\")\n",
    "print(\" - Outcome model not specified. Use set_outcome_model()\")\n"
   ]
  },
  {
   "cell_type": "code",
   "execution_count": null,
   "id": "078459cf",
   "metadata": {},
   "outputs": [],
   "source": []
  }
 ],
 "metadata": {
  "kernelspec": {
   "display_name": "myproject_kernel",
   "language": "python",
   "name": "myproject_kernel"
  },
  "language_info": {
   "codemirror_mode": {
    "name": "ipython",
    "version": 3
   },
   "file_extension": ".py",
   "mimetype": "text/x-python",
   "name": "python",
   "nbconvert_exporter": "python",
   "pygments_lexer": "ipython3",
   "version": "3.12.0"
  }
 },
 "nbformat": 4,
 "nbformat_minor": 5
}
